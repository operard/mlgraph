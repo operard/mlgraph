{
 "cells": [
  {
   "cell_type": "markdown",
   "metadata": {},
   "source": [
    "# Ring Algorithm using PGX"
   ]
  },
  {
   "cell_type": "markdown",
   "metadata": {},
   "source": [
    "## First Step: Get a session in PGX server."
   ]
  },
  {
   "cell_type": "code",
   "execution_count": 1,
   "metadata": {},
   "outputs": [],
   "source": [
    "import json\n",
    "import ssl\n",
    "\n",
    "ssl._create_default_https_context = ssl._create_unverified_context\n",
    "\n",
    "def generateToken(base_url, username, password):\n",
    "    from urllib.request import Request, urlopen\n",
    "    from urllib.error import HTTPError\n",
    "\n",
    "    body = json.dumps({ 'username': username, 'password': password }).encode('utf8')\n",
    "    headers = { 'content-type': 'application/json' }\n",
    "    request = Request(base_url + '/auth/token', data=body, headers=headers)\n",
    "\n",
    "    try:\n",
    "        response = urlopen(request).read().decode('utf-8')\n",
    "        return json.loads(response).get('access_token')\n",
    "\n",
    "    except HTTPError as err:\n",
    "\n",
    "        if err.code == 400:\n",
    "            print('Authentication failed no username/password given')\n",
    "        elif err.code == 401:\n",
    "            print('Authentication failed invalid username/password')\n",
    "        else:\n",
    "            print(\"Server returned HTTP response code: {} for URL: {}\".format(err.code, err.url))\n",
    "\n",
    "        os._exit(1)\n",
    "\n",
    "baseUrl = 'https://localhost:7007'\n",
    "username = 'workshop022'\n",
    "password = 'welcome1'\n",
    "\n",
    "token=generateToken(baseUrl, username, password)"
   ]
  },
  {
   "cell_type": "code",
   "execution_count": 2,
   "metadata": {},
   "outputs": [
    {
     "name": "stdout",
     "output_type": "stream",
     "text": [
      "eyJraWQiOiJEYXRhYmFzZVJlYWxtIiwiYWxnIjoiUlMyNTYifQ.eyJzdWIiOiJXT1JLU0hPUDAyMiIsInJvbGVzIjpbIkdSQVBIX0RFVkVMT1BFUiIsIkdSQVBIX0FETUlOSVNUUkFUT1IiXSwiZ2VuZXJhbF9wZXJtaXNzaW9ucyI6WyJQR1hfU0VTU0lPTl9HRVRfUFVCTElTSEVEX0dSQVBIIiwiUEdYX1NFUlZFUl9HRVRfSU5GTyIsIlBHWF9TRVNTSU9OX01PRElGWV9NT0RFTCIsIlBHWF9TRVNTSU9OX1JFQURfTU9ERUwiLCJQR1hfU0VTU0lPTl9DUkVBVEUiLCJQR1hfU0VSVkVSX01BTkFHRSIsIlBHWF9TRVNTSU9OX05FV19HUkFQSCJdLCJpc3MiOiJvcmFjbGUucGcuaWRlbnRpdHkucmVzdC5BdXRoZW50aWNhdGlvblNlcnZpY2UiLCJleHAiOjE2MTYzOTk3NzgsIm51bV90b2tlbl9yZWZyZXNoIjowLCJmaWxlX3Blcm1pc3Npb25zIjp7IlwvaG9tZVwvb3JhY2xlXC9Eb3dubG9hZHNcL2JzYW4iOlsiUkVBRCJdfX0.pM-Ne-_0D2_xEf_wpOMCNFpZ96igonTCeJwBGM3VCdPuvSxgjXR5wtTBUaEcLEX5ZqYLoe4zWHNiVOYnFlrAKH298AkQKfm1Lcclejc5ANvsSS6rvxDmbnr9KG7ZGsMsC3pSopv6p9AhjUbOrJmmosIkVUD7XSiWQiwO04xn0_qJ4IyCib2Mqb_n-uYKJfSerd67nXBF2JFoA1a41Ql-kvrlwjzAhWpfgzWAH3EBQyFz-sxNt5MbBid8pLxfX3RNQR-d_GOiUwhKudiU731isR9ILRasdRUd7JkQNk9TooA5vuDomn40IIGYAF9w1QviUbq_fJCVcxPP7fug6_D6mw\n"
     ]
    }
   ],
   "source": [
    "print(token)"
   ]
  },
  {
   "cell_type": "code",
   "execution_count": 3,
   "metadata": {},
   "outputs": [],
   "source": [
    "try:\n",
    "    import pypgx as pgx\n",
    "\n",
    "    session = pgx.get_session(base_url=baseUrl, token=token)\n",
    "    instance = session.server_instance\n",
    "    analyst = session.create_analyst()\n",
    "\n",
    "except SystemExit:\n",
    "    os._exit(0)\n",
    "    "
   ]
  },
  {
   "cell_type": "code",
   "execution_count": 4,
   "metadata": {},
   "outputs": [
    {
     "name": "stdout",
     "output_type": "stream",
     "text": [
      "PgxSession(id: 1a5cadf9-2b36-4729-a6d2-4e10f412e6b1, name: pypgx)\n"
     ]
    }
   ],
   "source": [
    "print(session)"
   ]
  },
  {
   "cell_type": "markdown",
   "metadata": {},
   "source": [
    "## Load JSON File with Property Graph Definition"
   ]
  },
  {
   "cell_type": "code",
   "execution_count": 6,
   "metadata": {},
   "outputs": [
    {
     "ename": "RuntimeError",
     "evalue": "JVM exception occurred: java.lang.Exception: ORA-00942: table or view does not exist\n code: PGX-ERROR-2R8OO37VPPJTC java.util.concurrent.ExecutionException\nJava stack trace:\n    java.util.concurrent.ExecutionException: java.lang.Exception: ORA-00942: table or view does not exist\n code: PGX-ERROR-2R8OO37VPPJTC\n    java.util.concurrent.CompletableFuture.reportGet(CompletableFuture.java:357)\n    java.util.concurrent.CompletableFuture.get(CompletableFuture.java:1908)\n    oracle.pgx.api.PgxFuture.get(PgxFuture.java:99)\n    oracle.pgx.api.PgxSession.readGraphWithProperties(PgxSession.java:1959)\nCaused by:\n    java.lang.Exception: ORA-00942: table or view does not exist\n code: PGX-ERROR-2R8OO37VPPJTC\n    oracle.pgx.common.marshalers.ExceptionMarshaler.toUnserializedException(ExceptionMarshaler.java:110)\n    oracle.pgx.common.marshalers.ExceptionMarshaler.unmarshal(ExceptionMarshaler.java:123)\n    oracle.pgx.client.RemoteUtils.parseExceptionalResponse(RemoteUtils.java:130)\n    oracle.pgx.client.RemoteUtils.getResponseContent(RemoteUtils.java:98)\n    oracle.pgx.client.RemoteUtils.getResponseContent(RemoteUtils.java:66)\n    oracle.pgx.client.RemoteUtils.parse(RemoteUtils.java:153)\n    oracle.pgx.client.PgxRemoteFuture.executeRequest(PgxRemoteFuture.java:115)\n    oracle.pgx.client.PgxRemoteFuture.lambda$fetchRemoteResultAsync$3(PgxRemoteFuture.java:221)\n    java.util.concurrent.ThreadPoolExecutor.runWorker(ThreadPoolExecutor.java:1149)\n    java.util.concurrent.ThreadPoolExecutor$Worker.run(ThreadPoolExecutor.java:624)\n    java.lang.Thread.run(Thread.java:748)",
     "output_type": "error",
     "traceback": [
      "\u001b[0;31m---------------------------------------------------------------------------\u001b[0m",
      "\u001b[0;31mRuntimeError\u001b[0m                              Traceback (most recent call last)",
      "\u001b[0;32m<ipython-input-6-846ae5d1fa5f>\u001b[0m in \u001b[0;36m<module>\u001b[0;34m\u001b[0m\n\u001b[1;32m      1\u001b[0m \u001b[0;31m# read Graph\u001b[0m\u001b[0;34m\u001b[0m\u001b[0;34m\u001b[0m\u001b[0;34m\u001b[0m\u001b[0m\n\u001b[0;32m----> 2\u001b[0;31m \u001b[0mgraph\u001b[0m \u001b[0;34m=\u001b[0m \u001b[0msession\u001b[0m\u001b[0;34m.\u001b[0m\u001b[0mread_graph_with_properties\u001b[0m\u001b[0;34m(\u001b[0m\u001b[0;34m\"./bank.json\"\u001b[0m\u001b[0;34m)\u001b[0m\u001b[0;34m\u001b[0m\u001b[0;34m\u001b[0m\u001b[0m\n\u001b[0m",
      "\u001b[0;32m/opt/Python-3.7.6/lib/python3.7/site-packages/pypgx/api/_pgx_session.py\u001b[0m in \u001b[0;36mread_graph_with_properties\u001b[0;34m(self, config, max_age, max_age_time_unit, block_if_full, update_if_not_fresh, graph_name)\u001b[0m\n\u001b[1;32m    292\u001b[0m         \u001b[0;32mif\u001b[0m \u001b[0misinstance\u001b[0m\u001b[0;34m(\u001b[0m\u001b[0mconfig\u001b[0m\u001b[0;34m,\u001b[0m \u001b[0;34m(\u001b[0m\u001b[0mstr\u001b[0m\u001b[0;34m,\u001b[0m \u001b[0mpathlib\u001b[0m\u001b[0;34m.\u001b[0m\u001b[0mPurePath\u001b[0m\u001b[0;34m)\u001b[0m\u001b[0;34m)\u001b[0m\u001b[0;34m:\u001b[0m\u001b[0;34m\u001b[0m\u001b[0;34m\u001b[0m\u001b[0m\n\u001b[1;32m    293\u001b[0m             \u001b[0mconfig\u001b[0m \u001b[0;34m=\u001b[0m \u001b[0mstr\u001b[0m\u001b[0;34m(\u001b[0m\u001b[0mconfig\u001b[0m\u001b[0;34m)\u001b[0m\u001b[0;34m\u001b[0m\u001b[0;34m\u001b[0m\u001b[0m\n\u001b[0;32m--> 294\u001b[0;31m             \u001b[0mgraph\u001b[0m \u001b[0;34m=\u001b[0m \u001b[0mjava_handler\u001b[0m\u001b[0;34m(\u001b[0m\u001b[0mself\u001b[0m\u001b[0;34m.\u001b[0m\u001b[0m_session\u001b[0m\u001b[0;34m.\u001b[0m\u001b[0mreadGraphWithProperties\u001b[0m\u001b[0;34m,\u001b[0m \u001b[0;34m[\u001b[0m\u001b[0mconfig\u001b[0m\u001b[0;34m,\u001b[0m \u001b[0mgraph_name\u001b[0m\u001b[0;34m]\u001b[0m\u001b[0;34m)\u001b[0m\u001b[0;34m\u001b[0m\u001b[0;34m\u001b[0m\u001b[0m\n\u001b[0m\u001b[1;32m    295\u001b[0m         \u001b[0;32melif\u001b[0m \u001b[0misinstance\u001b[0m\u001b[0;34m(\u001b[0m\u001b[0mconfig\u001b[0m\u001b[0;34m,\u001b[0m \u001b[0mGraphConfig\u001b[0m\u001b[0;34m)\u001b[0m\u001b[0;34m:\u001b[0m\u001b[0;34m\u001b[0m\u001b[0;34m\u001b[0m\u001b[0m\n\u001b[1;32m    296\u001b[0m             graph = java_handler(\n",
      "\u001b[0;32m/opt/Python-3.7.6/lib/python3.7/site-packages/pypgx/utils/error_handling.py\u001b[0m in \u001b[0;36mjava_handler\u001b[0;34m(callable, arguments)\u001b[0m\n\u001b[1;32m     55\u001b[0m             ]\n\u001b[1;32m     56\u001b[0m             \u001b[0mmessage\u001b[0m \u001b[0;34m+=\u001b[0m \u001b[0;34m'\\n'\u001b[0m\u001b[0;34m.\u001b[0m\u001b[0mjoin\u001b[0m\u001b[0;34m(\u001b[0m\u001b[0mstacktrace_java\u001b[0m\u001b[0;34m)\u001b[0m\u001b[0;34m\u001b[0m\u001b[0;34m\u001b[0m\u001b[0m\n\u001b[0;32m---> 57\u001b[0;31m         \u001b[0;32mraise\u001b[0m \u001b[0mRuntimeError\u001b[0m\u001b[0;34m(\u001b[0m\u001b[0mmessage\u001b[0m\u001b[0;34m)\u001b[0m \u001b[0;32mfrom\u001b[0m \u001b[0;32mNone\u001b[0m\u001b[0;34m\u001b[0m\u001b[0;34m\u001b[0m\u001b[0m\n\u001b[0m",
      "\u001b[0;31mRuntimeError\u001b[0m: JVM exception occurred: java.lang.Exception: ORA-00942: table or view does not exist\n code: PGX-ERROR-2R8OO37VPPJTC java.util.concurrent.ExecutionException\nJava stack trace:\n    java.util.concurrent.ExecutionException: java.lang.Exception: ORA-00942: table or view does not exist\n code: PGX-ERROR-2R8OO37VPPJTC\n    java.util.concurrent.CompletableFuture.reportGet(CompletableFuture.java:357)\n    java.util.concurrent.CompletableFuture.get(CompletableFuture.java:1908)\n    oracle.pgx.api.PgxFuture.get(PgxFuture.java:99)\n    oracle.pgx.api.PgxSession.readGraphWithProperties(PgxSession.java:1959)\nCaused by:\n    java.lang.Exception: ORA-00942: table or view does not exist\n code: PGX-ERROR-2R8OO37VPPJTC\n    oracle.pgx.common.marshalers.ExceptionMarshaler.toUnserializedException(ExceptionMarshaler.java:110)\n    oracle.pgx.common.marshalers.ExceptionMarshaler.unmarshal(ExceptionMarshaler.java:123)\n    oracle.pgx.client.RemoteUtils.parseExceptionalResponse(RemoteUtils.java:130)\n    oracle.pgx.client.RemoteUtils.getResponseContent(RemoteUtils.java:98)\n    oracle.pgx.client.RemoteUtils.getResponseContent(RemoteUtils.java:66)\n    oracle.pgx.client.RemoteUtils.parse(RemoteUtils.java:153)\n    oracle.pgx.client.PgxRemoteFuture.executeRequest(PgxRemoteFuture.java:115)\n    oracle.pgx.client.PgxRemoteFuture.lambda$fetchRemoteResultAsync$3(PgxRemoteFuture.java:221)\n    java.util.concurrent.ThreadPoolExecutor.runWorker(ThreadPoolExecutor.java:1149)\n    java.util.concurrent.ThreadPoolExecutor$Worker.run(ThreadPoolExecutor.java:624)\n    java.lang.Thread.run(Thread.java:748)"
     ]
    }
   ],
   "source": [
    "# read Graph\n",
    "graph = session.read_graph_with_properties(\"./bank.json\")\n"
   ]
  },
  {
   "cell_type": "code",
   "execution_count": null,
   "metadata": {},
   "outputs": [],
   "source": [
    "print('Edges number: ' + str(graph.num_edges) + ' Nodes number: '+ str(graph.num_vertices))"
   ]
  },
  {
   "cell_type": "markdown",
   "metadata": {},
   "source": [
    "## Entity Link Analysis\n",
    "\n",
    "### Performing entity link analysis on the above Graph data model is demonstrated below. We use brackets in the below table is to isolate individual elements of a collection.\n",
    "\n",
    "### Find account who share more than one piece of legitimate contact"
   ]
  },
  {
   "cell_type": "code",
   "execution_count": null,
   "metadata": {},
   "outputs": [],
   "source": [
    "pgxResultSetNode = graph.query_pgql(\"\"\"\n",
    "  select label(contact), listagg(acct.FIRSTNAME,','), count(*) as size\n",
    "from match (acct)-[]->(contact)\n",
    "where exists (\n",
    "  SELECT count(*) as ringsize, contact\n",
    "  from MATCH (account:CUST)-[]->(contact)\n",
    "  group by contact \n",
    "  having ringsize > 1 \n",
    "  order by ringsize desc\n",
    ")\n",
    "group by label(contact)\n",
    "\"\"\")\n",
    "\n",
    "for i in pgxResultSetNode:\n",
    "    print (i)"
   ]
  },
  {
   "cell_type": "markdown",
   "metadata": {},
   "source": [
    "### Determine the financial risk of a possible fraud ring"
   ]
  },
  {
   "cell_type": "code",
   "execution_count": null,
   "metadata": {},
   "outputs": [],
   "source": [
    "pgxResultSetNode = graph.query_pgql(\"\"\"\n",
    "select label(contact), listagg(acct.FIRSTNAME,','), \n",
    "        count(*) as size, round(sum(CASE \n",
    "                                     WHEN label(r)='HAS_CREDITCARDS' THEN unsecuredAccount.LIMIT \n",
    "                                     WHEN label(r)='HAS_UNSECUREDLOANS' THEN unsecuredAccount.BALANCE \n",
    "                                     ELSE 0 \n",
    "                                    END)) as FINANCIALRISK\n",
    "from match (acct)-[]->(contact), \n",
    "     match (acct)-[r:HAS_CREDITCARDS|HAS_UNSECUREDLOANS]->(unsecuredAccount)\n",
    "where exists (\n",
    "  SELECT count(*) as ringsize, contact\n",
    "  from MATCH (account:CUST)-[]->(contact)\n",
    "  group by contact \n",
    "  having ringsize > 1 \n",
    "  order by ringsize desc\n",
    ")\n",
    "group by label(contact)\n",
    "\"\"\")\n",
    "\n",
    "for i in pgxResultSetNode:\n",
    "    print (i)"
   ]
  },
  {
   "cell_type": "markdown",
   "metadata": {},
   "source": [
    "## Destroy Graph In PGX Memory"
   ]
  },
  {
   "cell_type": "code",
   "execution_count": null,
   "metadata": {},
   "outputs": [],
   "source": [
    "session.destroy()"
   ]
  },
  {
   "cell_type": "code",
   "execution_count": null,
   "metadata": {},
   "outputs": [],
   "source": []
  }
 ],
 "metadata": {
  "kernelspec": {
   "display_name": "Python 3",
   "language": "python",
   "name": "python3"
  },
  "language_info": {
   "codemirror_mode": {
    "name": "ipython",
    "version": 3
   },
   "file_extension": ".py",
   "mimetype": "text/x-python",
   "name": "python",
   "nbconvert_exporter": "python",
   "pygments_lexer": "ipython3",
   "version": "3.7.6"
  }
 },
 "nbformat": 4,
 "nbformat_minor": 4
}
